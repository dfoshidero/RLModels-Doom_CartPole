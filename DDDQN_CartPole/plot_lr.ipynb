{
 "cells": [
  {
   "cell_type": "markdown",
   "metadata": {},
   "source": [
    "# Plots CartPole Training Results\n",
    "\n",
    "**Please expand the cells to view the code!**\n",
    "\n",
    "### Description\n",
    "The plot_data function in this note book reads in a specified list of log.txt files, converts them to json format and plots them into a line plot. \n",
    "\n",
    "### How to Run\n",
    "Please make sure .txt log files are in a readable json format. Due to time restrictions the author was not able to fully factorise the code to make it easily applicable with simple inputs. Therefore the list of file directories and file names needs to be manually changed in the 'files' variable."
   ]
  },
  {
   "cell_type": "code",
   "execution_count": null,
   "metadata": {},
   "outputs": [],
   "source": [
    "import os\n",
    "import re\n",
    "import json\n",
    "import matplotlib.pyplot as plt\n",
    "import numpy as np\n",
    "import seaborn as sns\n",
    "import pandas as pd\n",
    "\n",
    "def extract_legend(file_name):\n",
    "    match = re.search(r'LR(.*?)_', file_name)\n",
    "    if match:\n",
    "        return match.group(1)\n",
    "    else:\n",
    "        return \"Unknown\"\n",
    "\n",
    "def plot_data(directory, model):\n",
    "    # files = [f for f in os.listdir(directory) if f.endswith('.txt')]\n",
    "    files = [f\"{directory}/LR0.01_.txt\", f\"{directory}/LR0.005_.txt\",  f\"{directory}/LR0.001_.txt\", f\"{directory}/LR0.0005_.txt\", f\"{directory}/LR0.0001_.txt\"]\n",
    "    legends = {}\n",
    "    for file_name in files:\n",
    "        legend = extract_legend(file_name)\n",
    "        legends[file_name] = \"LR = \" + legend\n",
    "\n",
    "    for file_path, legend in legends.items():\n",
    "        with open(file_path, 'r') as file:\n",
    "            data = file.read()\n",
    "\n",
    "        episodes = []\n",
    "        rewards = []\n",
    "        total_steps = []\n",
    "        for line in data.strip().split('\\n'):\n",
    "            record = json.loads(line)\n",
    "            episodes.append(record['episode'])\n",
    "            rewards.append(record['reward'])\n",
    "            total_steps.append(record['total_steps'])\n",
    "\n",
    "        window_size = 50\n",
    "        reward_series = pd.Series(rewards)\n",
    "        # rolling_steps = np.convolve(total_steps, np.ones(rolling_window)/rolling_window, mode='valid')\n",
    "        rolling_rewards = reward_series.rolling(window=window_size, min_periods=1).mean()\n",
    "        sns.set_style(\"whitegrid\")\n",
    "        sns.set_palette(\"Set1\")  # Example of using a different color palette\n",
    "    \n",
    "    # Plotting with Seaborn\n",
    "        sns.lineplot(x=total_steps, y=rolling_rewards, linewidth=2, label=legend)  # Customizing line width and adding markers\n",
    "        sns.set_context(\"paper\") \n",
    "       \n",
    "\n",
    "    plt.xlabel('Total Steps',fontdict={'fontsize': 9, 'fontweight': 'bold'})\n",
    "    plt.ylabel('Reward (Rolling Average)',fontdict={'fontsize': 9, 'fontweight': 'bold'})\n",
    "    plt.title(f'{model}: Rolling Average Reward per Episode (Window = {window_size})',fontdict={'fontsize': 11, 'fontweight': 'bold'}, pad=10)\n",
    "    plt.suptitle(\"Performance by different learning rates\", fontstyle=\"italic\")\n",
    "    plt.legend(loc='upper left')\n",
    "    plt.xlim(0, 202000)  # Set x-axis range from 0 to 100,000\n",
    "    plt.ylim(0, 500)\n",
    "    plt.tight_layout()\n",
    "    plt.show()\n",
    "\n",
    "plot_data(\"./logs/lr\", \"REINFORCE\")"
   ]
  },
  {
   "cell_type": "code",
   "execution_count": null,
   "metadata": {},
   "outputs": [],
   "source": []
  }
 ],
 "metadata": {
  "kernelspec": {
   "display_name": "pythonlab",
   "language": "python",
   "name": "python3"
  },
  "language_info": {
   "codemirror_mode": {
    "name": "ipython",
    "version": 3
   },
   "file_extension": ".py",
   "mimetype": "text/x-python",
   "name": "python",
   "nbconvert_exporter": "python",
   "pygments_lexer": "ipython3",
   "version": "3.8.18"
  }
 },
 "nbformat": 4,
 "nbformat_minor": 2
}
